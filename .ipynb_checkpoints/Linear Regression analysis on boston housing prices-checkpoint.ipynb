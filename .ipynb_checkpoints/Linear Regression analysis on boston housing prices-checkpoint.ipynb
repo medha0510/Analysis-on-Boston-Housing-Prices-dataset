{
 "cells": [
  {
   "cell_type": "markdown",
   "metadata": {},
   "source": [
    "# Analysis on Boston Housing Prices using LinearRegression model"
   ]
  },
  {
   "cell_type": "code",
   "execution_count": 3,
   "metadata": {},
   "outputs": [],
   "source": [
    "from pandas import read_csv\n",
    "import pandas as pd\n",
    "from pandas.plotting import scatter_matrix\n",
    "from matplotlib import pyplot\n",
    "from sklearn.model_selection import train_test_split\n",
    "from sklearn.model_selection import cross_val_score\n",
    "from sklearn.metrics import classification_report\n",
    "from sklearn.metrics import confusion_matrix\n",
    "from sklearn.metrics import accuracy_score\n",
    "from sklearn.linear_model import LinearRegression"
   ]
  },
  {
   "cell_type": "code",
   "execution_count": 5,
   "metadata": {},
   "outputs": [
    {
     "data": {
      "text/html": [
       "<div>\n",
       "<style scoped>\n",
       "    .dataframe tbody tr th:only-of-type {\n",
       "        vertical-align: middle;\n",
       "    }\n",
       "\n",
       "    .dataframe tbody tr th {\n",
       "        vertical-align: top;\n",
       "    }\n",
       "\n",
       "    .dataframe thead th {\n",
       "        text-align: right;\n",
       "    }\n",
       "</style>\n",
       "<table border=\"1\" class=\"dataframe\">\n",
       "  <thead>\n",
       "    <tr style=\"text-align: right;\">\n",
       "      <th></th>\n",
       "      <th>CRIM</th>\n",
       "      <th>ZN</th>\n",
       "      <th>INDUS</th>\n",
       "      <th>CHAS</th>\n",
       "      <th>NOX</th>\n",
       "      <th>RM</th>\n",
       "      <th>AGE</th>\n",
       "      <th>DIS</th>\n",
       "      <th>RAD</th>\n",
       "      <th>TAX</th>\n",
       "      <th>PTRATIO</th>\n",
       "      <th>B</th>\n",
       "      <th>LSTAT</th>\n",
       "      <th>MEDV</th>\n",
       "    </tr>\n",
       "  </thead>\n",
       "  <tbody>\n",
       "    <tr>\n",
       "      <td>0</td>\n",
       "      <td>0.00632</td>\n",
       "      <td>18.0</td>\n",
       "      <td>2.31</td>\n",
       "      <td>0</td>\n",
       "      <td>0.538</td>\n",
       "      <td>6.575</td>\n",
       "      <td>65.2</td>\n",
       "      <td>4.0900</td>\n",
       "      <td>1</td>\n",
       "      <td>296.0</td>\n",
       "      <td>15.3</td>\n",
       "      <td>396.90</td>\n",
       "      <td>4.98</td>\n",
       "      <td>24.0</td>\n",
       "    </tr>\n",
       "    <tr>\n",
       "      <td>1</td>\n",
       "      <td>0.02731</td>\n",
       "      <td>0.0</td>\n",
       "      <td>7.07</td>\n",
       "      <td>0</td>\n",
       "      <td>0.469</td>\n",
       "      <td>6.421</td>\n",
       "      <td>78.9</td>\n",
       "      <td>4.9671</td>\n",
       "      <td>2</td>\n",
       "      <td>242.0</td>\n",
       "      <td>17.8</td>\n",
       "      <td>396.90</td>\n",
       "      <td>9.14</td>\n",
       "      <td>21.6</td>\n",
       "    </tr>\n",
       "    <tr>\n",
       "      <td>2</td>\n",
       "      <td>0.02729</td>\n",
       "      <td>0.0</td>\n",
       "      <td>7.07</td>\n",
       "      <td>0</td>\n",
       "      <td>0.469</td>\n",
       "      <td>7.185</td>\n",
       "      <td>61.1</td>\n",
       "      <td>4.9671</td>\n",
       "      <td>2</td>\n",
       "      <td>242.0</td>\n",
       "      <td>17.8</td>\n",
       "      <td>392.83</td>\n",
       "      <td>4.03</td>\n",
       "      <td>34.7</td>\n",
       "    </tr>\n",
       "    <tr>\n",
       "      <td>3</td>\n",
       "      <td>0.03237</td>\n",
       "      <td>0.0</td>\n",
       "      <td>2.18</td>\n",
       "      <td>0</td>\n",
       "      <td>0.458</td>\n",
       "      <td>6.998</td>\n",
       "      <td>45.8</td>\n",
       "      <td>6.0622</td>\n",
       "      <td>3</td>\n",
       "      <td>222.0</td>\n",
       "      <td>18.7</td>\n",
       "      <td>394.63</td>\n",
       "      <td>2.94</td>\n",
       "      <td>33.4</td>\n",
       "    </tr>\n",
       "    <tr>\n",
       "      <td>4</td>\n",
       "      <td>0.06905</td>\n",
       "      <td>0.0</td>\n",
       "      <td>2.18</td>\n",
       "      <td>0</td>\n",
       "      <td>0.458</td>\n",
       "      <td>7.147</td>\n",
       "      <td>54.2</td>\n",
       "      <td>6.0622</td>\n",
       "      <td>3</td>\n",
       "      <td>222.0</td>\n",
       "      <td>18.7</td>\n",
       "      <td>396.90</td>\n",
       "      <td>5.33</td>\n",
       "      <td>36.2</td>\n",
       "    </tr>\n",
       "  </tbody>\n",
       "</table>\n",
       "</div>"
      ],
      "text/plain": [
       "      CRIM    ZN  INDUS  CHAS    NOX     RM   AGE     DIS  RAD    TAX  \\\n",
       "0  0.00632  18.0   2.31     0  0.538  6.575  65.2  4.0900    1  296.0   \n",
       "1  0.02731   0.0   7.07     0  0.469  6.421  78.9  4.9671    2  242.0   \n",
       "2  0.02729   0.0   7.07     0  0.469  7.185  61.1  4.9671    2  242.0   \n",
       "3  0.03237   0.0   2.18     0  0.458  6.998  45.8  6.0622    3  222.0   \n",
       "4  0.06905   0.0   2.18     0  0.458  7.147  54.2  6.0622    3  222.0   \n",
       "\n",
       "   PTRATIO       B  LSTAT  MEDV  \n",
       "0     15.3  396.90   4.98  24.0  \n",
       "1     17.8  396.90   9.14  21.6  \n",
       "2     17.8  392.83   4.03  34.7  \n",
       "3     18.7  394.63   2.94  33.4  \n",
       "4     18.7  396.90   5.33  36.2  "
      ]
     },
     "execution_count": 5,
     "metadata": {},
     "output_type": "execute_result"
    }
   ],
   "source": [
    "#Loading the Housing dataset\n",
    "url = \"https://archive.ics.uci.edu/ml/machine-learning-databases/housing/housing.data\"\n",
    "column = ['CRIM','ZN','INDUS','CHAS','NOX','RM','AGE','DIS','RAD','TAX','PTRATIO','B','LSTAT','MEDV' ]\n",
    "dataset = pd.read_csv(url, delim_whitespace=True, names = column)\n",
    "dataset.head()"
   ]
  },
  {
   "cell_type": "code",
   "execution_count": 6,
   "metadata": {},
   "outputs": [
    {
     "name": "stdout",
     "output_type": "stream",
     "text": [
      "      CRIM    ZN\n",
      "0  0.00632  18.0\n",
      "1  0.02731   0.0\n",
      "2  0.02729   0.0\n",
      "3  0.03237   0.0\n",
      "4  0.06905   0.0    MEDV\n",
      "0  24.0\n",
      "1  21.6\n",
      "2  34.7\n",
      "3  33.4\n",
      "4  36.2\n"
     ]
    }
   ],
   "source": [
    "#creating testing and training datasets\n",
    "x = dataset.iloc[: , :2]\n",
    "y = dataset.iloc[: , 13:]\n",
    "print(x.head(),y.head())"
   ]
  },
  {
   "cell_type": "code",
   "execution_count": 7,
   "metadata": {},
   "outputs": [
    {
     "name": "stdout",
     "output_type": "stream",
     "text": [
      "         CRIM    ZN\n",
      "463   5.82115   0.0\n",
      "152   1.12658   0.0\n",
      "291   0.07886  80.0\n",
      "183   0.10008   0.0\n",
      "384  20.08490   0.0      MEDV\n",
      "237  31.5\n",
      "265  22.8\n",
      "388  10.2\n",
      "74   24.1\n",
      "243  23.7\n"
     ]
    }
   ],
   "source": [
    "#creating gropus of training and testing instances\n",
    "x_train, x_test, y_train, y_test = train_test_split(x, y, test_size = 0.5, random_state = 2)\n",
    "print(x_test.head(),y_train.head())"
   ]
  },
  {
   "cell_type": "code",
   "execution_count": 9,
   "metadata": {},
   "outputs": [
    {
     "data": {
      "text/plain": [
       "array([[19.97991872],\n",
       "       [21.26831676],\n",
       "       [30.49710901],\n",
       "       [21.55003385],\n",
       "       [16.06531363],\n",
       "       [21.13052925],\n",
       "       [24.89937774],\n",
       "       [26.04016982],\n",
       "       [ 7.54357066],\n",
       "       [21.12285579],\n",
       "       [21.55921127],\n",
       "       [27.43340363],\n",
       "       [22.9586832 ],\n",
       "       [20.85420774],\n",
       "       [17.38179556],\n",
       "       [21.57000517],\n",
       "       [21.46560655],\n",
       "       [19.00029523],\n",
       "       [16.61428459],\n",
       "       [18.85368158],\n",
       "       [21.56724151],\n",
       "       [21.51942508],\n",
       "       [23.66184952],\n",
       "       [20.5639472 ],\n",
       "       [18.53462635],\n",
       "       [21.35720104],\n",
       "       [21.17588941],\n",
       "       [30.50841062],\n",
       "       [31.63281015],\n",
       "       [25.47978551],\n",
       "       [18.27094025],\n",
       "       [21.5666295 ],\n",
       "       [28.27743673],\n",
       "       [30.5089156 ],\n",
       "       [14.77081468],\n",
       "       [20.98605902],\n",
       "       [19.05617483],\n",
       "       [20.52097196],\n",
       "       [21.55822876],\n",
       "       [21.55360437],\n",
       "       [25.36782501],\n",
       "       [21.23395359],\n",
       "       [21.5629492 ],\n",
       "       [14.88276052],\n",
       "       [19.97913381],\n",
       "       [19.20499501],\n",
       "       [26.58317632],\n",
       "       [20.02239721],\n",
       "       [23.63259924],\n",
       "       [16.41492824],\n",
       "       [21.55927165],\n",
       "       [23.5971822 ],\n",
       "       [11.05206677],\n",
       "       [23.80264494],\n",
       "       [18.29758879],\n",
       "       [21.36535753],\n",
       "       [21.56915439],\n",
       "       [21.52869581],\n",
       "       [21.37159565],\n",
       "       [21.51789368],\n",
       "       [21.53879536],\n",
       "       [30.48949867],\n",
       "       [21.51020101],\n",
       "       [25.25223087],\n",
       "       [23.75507551],\n",
       "       [21.53670135],\n",
       "       [32.18560334],\n",
       "       [21.40636774],\n",
       "       [19.34030154],\n",
       "       [27.7216027 ],\n",
       "       [21.19657428],\n",
       "       [15.37585462],\n",
       "       [21.56507615],\n",
       "       [17.98911338],\n",
       "       [21.43463002],\n",
       "       [21.54742389],\n",
       "       [20.94246354],\n",
       "       [21.43012364],\n",
       "       [30.50673377],\n",
       "       [21.5636161 ],\n",
       "       [29.95070489],\n",
       "       [21.50514849],\n",
       "       [19.42604344],\n",
       "       [21.54252506],\n",
       "       [21.47262409],\n",
       "       [23.63071655],\n",
       "       [17.64369777],\n",
       "       [21.55231174],\n",
       "       [29.38897305],\n",
       "       [20.70926821],\n",
       "       [22.93939799],\n",
       "       [21.40241574],\n",
       "       [17.22086141],\n",
       "       [31.63218716],\n",
       "       [23.66447595],\n",
       "       [17.22473108],\n",
       "       [21.49566369],\n",
       "       [32.19035671],\n",
       "       [22.94883339],\n",
       "       [21.33564619],\n",
       "       [28.27948957],\n",
       "       [21.53150337],\n",
       "       [21.5276639 ],\n",
       "       [21.55550627],\n",
       "       [30.51335885],\n",
       "       [21.57001065],\n",
       "       [21.34681882],\n",
       "       [19.32689768],\n",
       "       [21.55856633],\n",
       "       [21.53609757],\n",
       "       [11.24140591],\n",
       "       [20.14990404],\n",
       "       [19.36663447],\n",
       "       [14.70374049],\n",
       "       [26.57243183],\n",
       "       [19.04374799],\n",
       "       [32.18659134],\n",
       "       [20.92471523],\n",
       "       [23.91090867],\n",
       "       [21.53606464],\n",
       "       [25.48572723],\n",
       "       [21.25010464],\n",
       "       [21.22800638],\n",
       "       [17.82362346],\n",
       "       [23.79599241],\n",
       "       [21.55499855],\n",
       "       [22.93489985],\n",
       "       [21.50568091],\n",
       "       [21.55934026],\n",
       "       [23.9775886 ],\n",
       "       [21.54006055],\n",
       "       [21.4504435 ],\n",
       "       [21.53844407],\n",
       "       [17.41220399],\n",
       "       [22.9373726 ],\n",
       "       [21.49803489],\n",
       "       [18.88149926],\n",
       "       [15.52570121],\n",
       "       [17.91097909],\n",
       "       [20.77502506],\n",
       "       [21.49802117],\n",
       "       [19.85177518],\n",
       "       [21.55327778],\n",
       "       [20.00461596],\n",
       "       [19.44994479],\n",
       "       [21.18947715],\n",
       "       [21.30959593],\n",
       "       [21.26715586],\n",
       "       [30.51463228],\n",
       "       [22.912851  ],\n",
       "       [31.63228871],\n",
       "       [21.36228101],\n",
       "       [20.56928239],\n",
       "       [26.02176833],\n",
       "       [20.60733684],\n",
       "       [26.03108023],\n",
       "       [21.53777168],\n",
       "       [21.56061917],\n",
       "       [21.56498558],\n",
       "       [21.56163736],\n",
       "       [31.63171786],\n",
       "       [25.35008767],\n",
       "       [21.30238354],\n",
       "       [23.65409098],\n",
       "       [20.66605695],\n",
       "       [ 2.93702284],\n",
       "       [21.57064462],\n",
       "       [18.33568166],\n",
       "       [21.55825346],\n",
       "       [21.53051537],\n",
       "       [24.69515361],\n",
       "       [23.80299348],\n",
       "       [21.55941985],\n",
       "       [25.2451749 ],\n",
       "       [21.56502949],\n",
       "       [21.56861648],\n",
       "       [21.53866637],\n",
       "       [21.16061384],\n",
       "       [19.9659495 ],\n",
       "       [21.24613069],\n",
       "       [28.26355808],\n",
       "       [21.56464527],\n",
       "       [20.02140646],\n",
       "       [21.4761754 ],\n",
       "       [21.1864116 ],\n",
       "       [21.53931406],\n",
       "       [21.41961517],\n",
       "       [19.80896735],\n",
       "       [21.46432489],\n",
       "       [25.25063086],\n",
       "       [ 9.02274318],\n",
       "       [21.40466619],\n",
       "       [21.45792211],\n",
       "       [17.45441352],\n",
       "       [21.52315478],\n",
       "       [21.4328873 ],\n",
       "       [21.55251757],\n",
       "       [21.52837745],\n",
       "       [21.24169567],\n",
       "       [23.9797869 ],\n",
       "       [13.71307885],\n",
       "       [21.40879932],\n",
       "       [22.95034009],\n",
       "       [21.54236588],\n",
       "       [25.47551241],\n",
       "       [29.95619103],\n",
       "       [21.55988915],\n",
       "       [21.55431793],\n",
       "       [20.12485276],\n",
       "       [21.55867336],\n",
       "       [16.19589423],\n",
       "       [19.16455289],\n",
       "       [21.543664  ],\n",
       "       [20.56803367],\n",
       "       [21.48818783],\n",
       "       [20.46918158],\n",
       "       [20.23321161],\n",
       "       [17.72136551],\n",
       "       [20.25683852],\n",
       "       [21.56895679],\n",
       "       [20.92744595],\n",
       "       [26.03131076],\n",
       "       [21.30623125],\n",
       "       [21.55503148],\n",
       "       [26.58398319],\n",
       "       [21.5416633 ],\n",
       "       [18.76911157],\n",
       "       [21.52056402],\n",
       "       [18.6486854 ],\n",
       "       [20.8146164 ],\n",
       "       [24.33066129],\n",
       "       [18.85595947],\n",
       "       [21.48681012],\n",
       "       [15.0873862 ],\n",
       "       [21.16684372],\n",
       "       [21.56212587],\n",
       "       [20.90524066],\n",
       "       [22.9423318 ],\n",
       "       [27.7162428 ],\n",
       "       [23.78793472],\n",
       "       [31.63392165],\n",
       "       [21.55859652],\n",
       "       [19.65019034],\n",
       "       [21.47119423],\n",
       "       [32.18972274],\n",
       "       [21.48113186],\n",
       "       [21.506378  ],\n",
       "       [18.51459191],\n",
       "       [21.02581502],\n",
       "       [32.7501345 ],\n",
       "       [19.38400954],\n",
       "       [21.48417271],\n",
       "       [20.3021877 ]])"
      ]
     },
     "execution_count": 9,
     "metadata": {},
     "output_type": "execute_result"
    }
   ],
   "source": [
    "#selecting the LinearRegression model and training the dataset\n",
    "model = LinearRegression()\n",
    "model.fit(x_train,y_train)\n",
    "pred = model.predict(x_test)\n",
    "pred"
   ]
  },
  {
   "cell_type": "code",
   "execution_count": 10,
   "metadata": {},
   "outputs": [
    {
     "data": {
      "text/plain": [
       "6.2971520064774085"
      ]
     },
     "execution_count": 10,
     "metadata": {},
     "output_type": "execute_result"
    }
   ],
   "source": [
    "from sklearn import metrics\n",
    "metrics.mean_absolute_error(y_test,pred)"
   ]
  },
  {
   "cell_type": "code",
   "execution_count": 11,
   "metadata": {},
   "outputs": [
    {
     "data": {
      "text/plain": [
       "array([[-0.27444431,  0.11176564]])"
      ]
     },
     "execution_count": 11,
     "metadata": {},
     "output_type": "execute_result"
    }
   ],
   "source": [
    "model.coef_"
   ]
  },
  {
   "cell_type": "code",
   "execution_count": 25,
   "metadata": {},
   "outputs": [
    {
     "data": {
      "text/plain": [
       "array([[23.58754733]])"
      ]
     },
     "execution_count": 25,
     "metadata": {},
     "output_type": "execute_result"
    }
   ],
   "source": [
    "#Now checking whose values effect the class of the housing\n",
    "pred1 = model.predict([[0.00632 , 18.0]])\n",
    "pred1\n"
   ]
  },
  {
   "cell_type": "code",
   "execution_count": 28,
   "metadata": {},
   "outputs": [
    {
     "data": {
      "text/plain": [
       "array([21.57750024])"
      ]
     },
     "execution_count": 28,
     "metadata": {},
     "output_type": "execute_result"
    }
   ],
   "source": [
    "model.intercept_"
   ]
  },
  {
   "cell_type": "code",
   "execution_count": 35,
   "metadata": {},
   "outputs": [
    {
     "data": {
      "text/html": [
       "<div>\n",
       "<style scoped>\n",
       "    .dataframe tbody tr th:only-of-type {\n",
       "        vertical-align: middle;\n",
       "    }\n",
       "\n",
       "    .dataframe tbody tr th {\n",
       "        vertical-align: top;\n",
       "    }\n",
       "\n",
       "    .dataframe thead th {\n",
       "        text-align: right;\n",
       "    }\n",
       "</style>\n",
       "<table border=\"1\" class=\"dataframe\">\n",
       "  <thead>\n",
       "    <tr style=\"text-align: right;\">\n",
       "      <th></th>\n",
       "      <th>MEDV</th>\n",
       "    </tr>\n",
       "  </thead>\n",
       "  <tbody>\n",
       "    <tr>\n",
       "      <td>463</td>\n",
       "      <td>20.2</td>\n",
       "    </tr>\n",
       "    <tr>\n",
       "      <td>152</td>\n",
       "      <td>15.3</td>\n",
       "    </tr>\n",
       "    <tr>\n",
       "      <td>291</td>\n",
       "      <td>37.3</td>\n",
       "    </tr>\n",
       "    <tr>\n",
       "      <td>183</td>\n",
       "      <td>32.5</td>\n",
       "    </tr>\n",
       "    <tr>\n",
       "      <td>384</td>\n",
       "      <td>8.8</td>\n",
       "    </tr>\n",
       "  </tbody>\n",
       "</table>\n",
       "</div>"
      ],
      "text/plain": [
       "     MEDV\n",
       "463  20.2\n",
       "152  15.3\n",
       "291  37.3\n",
       "183  32.5\n",
       "384   8.8"
      ]
     },
     "execution_count": 35,
     "metadata": {},
     "output_type": "execute_result"
    }
   ],
   "source": [
    "f1 = x_train.head()\n",
    "f2 = y_test.head()\n",
    "f2"
   ]
  },
  {
   "cell_type": "code",
   "execution_count": 37,
   "metadata": {},
   "outputs": [
    {
     "data": {
      "text/plain": [
       "array([[21.43703141],\n",
       "       [23.60379082],\n",
       "       [17.64369777],\n",
       "       [21.55583012],\n",
       "       [24.89545867]])"
      ]
     },
     "execution_count": 37,
     "metadata": {},
     "output_type": "execute_result"
    }
   ],
   "source": [
    "pred2 = model.predict(f1)\n",
    "pred2"
   ]
  },
  {
   "cell_type": "code",
   "execution_count": 38,
   "metadata": {},
   "outputs": [
    {
     "data": {
      "text/plain": [
       "11.24735060298173"
      ]
     },
     "execution_count": 38,
     "metadata": {},
     "output_type": "execute_result"
    }
   ],
   "source": [
    "metrics.mean_absolute_error(f2,pred2)"
   ]
  }
 ],
 "metadata": {
  "kernelspec": {
   "display_name": "Python 3",
   "language": "python",
   "name": "python3"
  },
  "language_info": {
   "codemirror_mode": {
    "name": "ipython",
    "version": 3
   },
   "file_extension": ".py",
   "mimetype": "text/x-python",
   "name": "python",
   "nbconvert_exporter": "python",
   "pygments_lexer": "ipython3",
   "version": "3.7.4"
  }
 },
 "nbformat": 4,
 "nbformat_minor": 2
}
